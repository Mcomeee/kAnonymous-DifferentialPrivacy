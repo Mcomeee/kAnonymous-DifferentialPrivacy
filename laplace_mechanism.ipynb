{
 "cells": [
  {
   "cell_type": "markdown",
   "metadata": {},
   "source": [
    "# 拉普拉斯机制\n",
    "- 对每个结果加入独立的拉普拉斯噪声来满足差分隐私\n",
    "- 噪声参数$ \\lambda $取决于当我们修改一个人的数据时，查询结果总共会改变多少\n",
    "    - 一组查询总共的“最大改变”被称为他们的敏感度\n",
    "    - 取$ \\lambda = 敏感度/\\varepsilon $即能满足$\\varepsilon$-差分隐私\n"
   ]
  },
  {
   "cell_type": "code",
   "execution_count": 2,
   "metadata": {},
   "outputs": [],
   "source": [
    "import pandas as pd\n",
    "import numpy as np\n",
    "import matplotlib.pyplot as plt\n",
    "import random\n",
    "import math\n",
    "plt.style.use('seaborn-whitegrid')"
   ]
  },
  {
   "cell_type": "code",
   "execution_count": 3,
   "metadata": {},
   "outputs": [],
   "source": [
    "ATTNAME = ['age', 'workclass', 'fnlwgt', 'education', 'education_num', 'marital_status',\n",
    "           'occupation', 'relationship', 'race', 'sex', \n",
    "            'capital_gain', 'capital_loss', 'hours_per_week', 'native_country', 'incom']\n"
   ]
  },
  {
   "cell_type": "code",
   "execution_count": 4,
   "metadata": {},
   "outputs": [],
   "source": [
    "def readdata():\n",
    "    df=pd.read_csv('adult.data.txt',names = ['age', 'workclass', 'fnlwgt','education','education_num','marital_status','occupation','relationship','race','sex','capital_gain','capital_loss','hours_per_week','native_country','incom'],header=None)\n",
    "    return df"
   ]
  },
  {
   "cell_type": "code",
   "execution_count": 5,
   "metadata": {},
   "outputs": [],
   "source": [
    "def generate_laplace(df):\n",
    "    oldestidx, twentysixidx, youngestidx = -1, -1, -1\n",
    "    oldest, youngest = -float('inf'), float('inf')\n",
    "    for idx, record in df.iterrows():\n",
    "        if record['age'] == -1:\n",
    "            continue\n",
    "        if record['age'] >= oldest:\n",
    "            if record['age'] != oldest or random.random() >= 0.5:\n",
    "                oldestidx, oldest = idx, record['age']\n",
    "        if record['age'] <= youngest:\n",
    "            if record['age'] != youngest or random.random() >= 0.5:\n",
    "                youngestidx, youngest = idx, record['age']\n",
    "        if record['age'] == 26 and (twentysixidx != -1 or random.random() >= 0.5):\n",
    "            twentysixidx = idx\n",
    "    version1=df.drop(index=oldestidx)\n",
    "    version2=df.drop(index=twentysixidx)\n",
    "    version3=df.drop(index=youngestidx)\n",
    "    return version1, version2, version3"
   ]
  },
  {
   "cell_type": "code",
   "execution_count": 6,
   "metadata": {},
   "outputs": [],
   "source": [
    "class LaplaceMechanism():\n",
    "    def __init__(self, records):\n",
    "        self.records = records\n",
    "        self.s = self.__calculate_sensitivity()\n",
    "        print(\"sensitivity=\"+str(self.s))\n",
    "        \n",
    "    def __calculate_sensitivity(self):\n",
    "        # 计算敏感度\n",
    "        num, oldage = 0, -float('inf')\n",
    "        oldage=self.records['age'].max()\n",
    "        num=self.records['age'][self.records['age']>25].count()\n",
    "        return oldage / num\n",
    "    \n",
    "    def __laplacian_noise(self, e):\n",
    "        #根据敏感度和epsilon 计算噪声\n",
    "        return np.random.laplace(self.s/e)\n",
    "    \n",
    "    def query_with_dp(self, e = 1, querynum=1000, above_age = 25):\n",
    "        # 返回添加拉普拉斯噪声后的结果\n",
    "        agegt25=self.records['age'][self.records['age']>above_age]\n",
    "        avgage = sum(agegt25) / len(agegt25)\n",
    "        res = []\n",
    "        for _ in range(querynum):\n",
    "            # 添加拉普拉斯噪声\n",
    "            res.append(round(avgage + self.__laplacian_noise(e), 2))\n",
    "        return res\n",
    "    \n",
    "    def calc_groundtruth(self, above_age = 25):\n",
    "        agesum=self.records['age'][self.records['age']>above_age].sum()\n",
    "        num=self.records['age'][self.records['age']>above_age].count()\n",
    "        return round(agesum / num, 2)\n",
    "    \n",
    "    def calc_distortion(self, queryres):\n",
    "        # 计算失真度——均方根误差\n",
    "        groundtruth = self.calc_groundtruth()\n",
    "        print(\"groundtruth=\",groundtruth)\n",
    "        rmse = (sum((res - groundtruth)**2 for res in queryres) / len(queryres))**(1/2)\n",
    "        print(\"distortion=\",rmse)\n",
    "        return rmse\n",
    "    \n",
    "def prove_indistinguishable(queryres1, queryres2, bucketnum = 20):\n",
    "    # 对拉普拉斯机制的不可分证明\n",
    "    # 返回[queryres1/queryres2，queryres2/queryres1],和e^epsilon作比较\n",
    "    maxval = max(max(queryres1), max(queryres2))\n",
    "    minval = min(min(queryres1), min(queryres2))\n",
    "    count1 = [0 for _ in range(bucketnum)]\n",
    "    count2 = [0 for _ in range(bucketnum)]\n",
    "    \n",
    "    for val1, val2 in zip(queryres1, queryres2):\n",
    "        count1[math.floor((val1-minval+1)/((maxval-minval+1)/bucketnum))-1] += 1\n",
    "        count2[math.floor((val2-minval+1)/((maxval-minval+1)/bucketnum))-1] += 1\n",
    "        \n",
    "    prob1 = list(map(lambda x: x/len(queryres1), count1))\n",
    "    prob2 = list(map(lambda  x: x/len(queryres2), count2))\n",
    "\n",
    "    res1overres2 = sum(p1 / p2 for p1, p2 in zip(prob1, prob2) if p2 != 0) / bucketnum\n",
    "    res2overres1 = sum(p2 / p1 for p1, p2 in zip(prob1, prob2) if p1 != 0) / bucketnum\n",
    "    return res1overres2, res2overres1"
   ]
  },
  {
   "cell_type": "code",
   "execution_count": 7,
   "metadata": {
    "scrolled": false
   },
   "outputs": [
    {
     "name": "stdout",
     "output_type": "stream",
     "text": [
      "############ Processing for original data ############\n",
      "sensitivity=0.0034416826003824093\n",
      "query 1000 results with epsilon = 0.5\n",
      "groundtruth= 42.78\n",
      "distortion= 1.4202154502046525\n",
      "query 1000 results with epsilon = 1\n",
      "groundtruth= 42.78\n",
      "distortion= 1.3836472816437027\n",
      "\n",
      "\n",
      "############ Processing for data removed a record with the oldest age ############\n",
      "sensitivity=0.0034418142185169607\n",
      "query 1000 results with epsilon = 0.5\n",
      "groundtruth= 42.78\n",
      "distortion= 1.4120335335961403\n",
      "query 1000 results with epsilon = 1\n",
      "groundtruth= 42.78\n",
      "distortion= 1.4260965517804185\n",
      "\n",
      "\n",
      "############ Processing for data removed any record with age 26 ############\n",
      "sensitivity=0.0034418142185169607\n",
      "query 1000 results with epsilon = 0.5\n",
      "groundtruth= 42.78\n",
      "distortion= 1.4253599720772308\n",
      "query 1000 results with epsilon = 1\n",
      "groundtruth= 42.78\n",
      "distortion= 1.4150100971371213\n",
      "\n",
      "\n",
      "############ Processing for data removed any record with the youghest age ############\n",
      "sensitivity=0.0034416826003824093\n",
      "query 1000 results with epsilon = 0.5\n",
      "groundtruth= 42.78\n",
      "distortion= 1.4135341081841666\n",
      "query 1000 results with epsilon = 1\n",
      "groundtruth= 42.78\n",
      "distortion= 1.3975930380479167\n",
      "\n",
      "\n",
      "############ Prove the 0.5-indistinguishable\n",
      "** original data ** OVER ** data removed a record with the oldest age **:\n",
      "0.7800362555141652\n",
      "** data removed a record with the oldest age ** OVER ** original data **:\n",
      "0.9006887197855568\n",
      "exp^e = 1.6487212707001282\n",
      "\n",
      "\n",
      "** original data ** OVER ** data removed any record with age 26 **:\n",
      "0.9531733030671482\n",
      "** data removed any record with age 26 ** OVER ** original data **:\n",
      "0.8433201735566073\n",
      "exp^e = 1.6487212707001282\n",
      "\n",
      "\n",
      "** original data ** OVER ** data removed any record with the youghest age **:\n",
      "1.0027020969578802\n",
      "** data removed any record with the youghest age ** OVER ** original data **:\n",
      "0.8555188832470831\n",
      "exp^e = 1.6487212707001282\n",
      "\n",
      "\n",
      "############ Prove the 1-indistinguishable\n",
      "** original data ** OVER ** data removed a record with the oldest age **:\n",
      "0.6823524445329678\n",
      "** data removed a record with the oldest age ** OVER ** original data **:\n",
      "0.5873804990492955\n",
      "exp^e = 2.718281828459045\n",
      "\n",
      "\n",
      "** original data ** OVER ** data removed any record with age 26 **:\n",
      "0.6678178729935615\n",
      "** data removed any record with age 26 ** OVER ** original data **:\n",
      "0.5819487354743964\n",
      "exp^e = 2.718281828459045\n",
      "\n",
      "\n",
      "** original data ** OVER ** data removed any record with the youghest age **:\n",
      "0.6885536337520857\n",
      "** data removed any record with the youghest age ** OVER ** original data **:\n",
      "0.680001567538016\n",
      "exp^e = 2.718281828459045\n",
      "\n",
      "\n",
      "############ Measure the distortion (RMSE) ############\n",
      "RMSE for e = 0.5: 1.4135341081841666\n",
      "RMSE for e = 1: 1.3975930380479167\n",
      "Distortion of e=1 is smaller than e=0.5 ?:  True\n"
     ]
    }
   ],
   "source": [
    "eps = [0.5, 1]\n",
    "recordsv0 = readdata()\n",
    "recordsv1, recordsv2, recordsv3 = generate_laplace(recordsv0)\n",
    "res1000 = {e:[] for e in eps}\n",
    "rmse = {e: 0 for e in eps}\n",
    "printsent = ['original data', 'data removed a record with the oldest age', \n",
    "                'data removed any record with age 26', 'data removed any record with the youghest age']\n",
    "i = 0\n",
    "for records in (recordsv0, recordsv1, recordsv2, recordsv3):\n",
    "    print('############ Processing for {} ############'.format(printsent[i]))\n",
    "    i += 1\n",
    "    LampMec = LaplaceMechanism(records)\n",
    "    for e in eps:\n",
    "        print('query 1000 results with epsilon = {}'.format(e))\n",
    "        res1000[e].append(LampMec.query_with_dp(e, querynum=1000))\n",
    "        rmse[e] = LampMec.calc_distortion(LampMec.query_with_dp(e, querynum=4000))\n",
    "    print('\\n')\n",
    "    \n",
    "for e in eps:\n",
    "    print('############ Prove the {}-indistinguishable'.format(e))\n",
    "    for i in range(1, 4):\n",
    "        tmpresij, tmpresji = prove_indistinguishable(res1000[e][0], res1000[e][i])\n",
    "        print('** {} ** OVER ** {} **:'.format(printsent[0], printsent[i]))\n",
    "        print(tmpresij)\n",
    "        print('** {} ** OVER ** {} **:'.format(printsent[i], printsent[0]))\n",
    "        print(tmpresji)\n",
    "        print('exp^e = {}'.format(math.exp(e)))\n",
    "        print('\\n')\n",
    "    \n",
    "print('############ Measure the distortion (RMSE) ############')\n",
    "for e in eps:\n",
    "    print('RMSE for e = {}: {}'.format(e, rmse[e]))\n",
    "print('Distortion of e=1 is smaller than e=0.5 ?: ', True if rmse[1] <= rmse[0.5] else False)\n",
    "del recordsv0\n",
    "del recordsv1\n",
    "del recordsv2\n",
    "del recordsv3\n"
   ]
  },
  {
   "cell_type": "code",
   "execution_count": 8,
   "metadata": {},
   "outputs": [],
   "source": [
    "def cac_avg_age(type = 1,dellist = []):\n",
    "    df = readdata()\n",
    "    if type==1:\n",
    "        newage = df['age'].apply(lambda x: 12.5 if x ==\"0-25\" else (\n",
    "            37.5 if x == \"25-50\" else (\n",
    "            62.5 if x == \"50-75\" else (\n",
    "            87.5 if x == \"75-100\" else(\n",
    "            25 if x == \"0-50\" else 75 )))))\n",
    "    else: \n",
    "        newage = df['age']\n",
    "    \n",
    "    if len(dellist)!=0:\n",
    "        for i in dellist:\n",
    "            newage=newage.drop(i)\n",
    "    return newage.sum()/newage.shape[0]    "
   ]
  },
  {
   "cell_type": "code",
   "execution_count": 9,
   "metadata": {
    "scrolled": false
   },
   "outputs": [
    {
     "name": "stdout",
     "output_type": "stream",
     "text": [
      "真实平均年龄：\n",
      " 38.58164675532078\n",
      "请输入您想要查询的范围(默认大于25岁)\n",
      "25\n",
      "sensitivity=0.0034416826003824093\n"
     ]
    },
    {
     "data": {
      "image/png": "[encoded data removed]",
      "text/plain": [
       "<Figure size 432x288 with 1 Axes>"
      ]
     },
     "metadata": {
      "needs_background": "light"
     },
     "output_type": "display_data"
    },
    {
     "name": "stdout",
     "output_type": "stream",
     "text": [
      "差分隐私查询1000次的均值为：\n",
      " 42.73467999999997\n",
      "请输入要删除的索引:\n",
      "0\n",
      "删除索引为0,年龄为39\n",
      "sensitivity=0.0034418142185169607\n"
     ]
    },
    {
     "data": {
      "image/png": "[encoded data removed]",
      "text/plain": [
       "<Figure size 432x288 with 1 Axes>"
      ]
     },
     "metadata": {
      "needs_background": "light"
     },
     "output_type": "display_data"
    },
    {
     "name": "stdout",
     "output_type": "stream",
     "text": [
      "执行以上操作后,差分隐私后平均年龄：\n",
      " 42.709830000000004\n",
      "根据前后数值差分攻击得到删除掉的年龄为：\n",
      " 851.8506799989846\n"
     ]
    },
    {
     "data": {
      "image/png": "[encoded data removed]",
      "text/plain": [
       "<Figure size 432x288 with 1 Axes>"
      ]
     },
     "metadata": {
      "needs_background": "light"
     },
     "output_type": "display_data"
    }
   ],
   "source": [
    "#初始化参数\n",
    "k = 10\n",
    "real_avg_age = 0\n",
    "dellist = []\n",
    "mistake = {'real':[],'k_anonymize':[],'DP':[]}\n",
    "xlist = []\n",
    "ylist = []\n",
    "\n",
    "avg_age = cac_avg_age(type=2, dellist=dellist)\n",
    "print(\"真实平均年龄：\\n\",avg_age)\n",
    "real_avg_age = avg_age\n",
    "\n",
    "records = readdata()\n",
    "aa = int(input(\"请输入您想要查询的范围(默认大于25岁)\\n\"))\n",
    "LapMe = LaplaceMechanism(records)\n",
    "#添加拉普拉斯噪声后的结果\n",
    "res1 = LapMe.query_with_dp(e=0.5, querynum=1000,above_age = aa)\n",
    "\n",
    "#画图\n",
    "delta = 0.1\n",
    "bumket = [0 for i in range(0,int(20/delta))]\n",
    "for i in res1:\n",
    "    bumket[int((i-real_avg_age-10)/delta)] +=1\n",
    "\n",
    "# 显示年龄的分布\n",
    "x_lable = np.linspace(round(real_avg_age-10,1),round(real_avg_age+10,1),200)\n",
    "xlist.append(x_lable)\n",
    "ylist.append(bumket)\n",
    "fig, ax = plt.subplots()\n",
    "ax.plot(x_lable,bumket,color = 'r' )\n",
    "ax.set(xlabel='avrage age(year)', ylabel='count', title='Laplace Distribution')\n",
    "ax.grid()\n",
    "plt.show()\n",
    "\n",
    "avg_age_DP = sum(res1)/len(res1)\n",
    "mistake['DP'].append(avg_age_DP)   \n",
    "print(\"差分隐私查询1000次的均值为：\\n\",avg_age_DP)\n",
    "\n",
    "delp = int(input(\"请输入要删除的索引:\\n\"))  \n",
    "dellist.append(delp)\n",
    "if len(dellist)!=0:\n",
    "    for i in dellist:\n",
    "        print(\"删除索引为{},年龄为{}\".format(i,records['age'][i]))\n",
    "        records = records.drop(i)\n",
    "\n",
    "LapMe = LaplaceMechanism(records)\n",
    "res1 = LapMe.query_with_dp(0.5, 1000,above_age = aa)\n",
    "#画图\n",
    "bumket = [0 for i in range(0,int(20/delta))]\n",
    "for i in res1:\n",
    "    bumket[int((i-real_avg_age-10)/delta)] +=1\n",
    "x_lable = np.linspace(round(real_avg_age-10,1),round(real_avg_age+10,1),200)\n",
    "xlist.append(x_lable)\n",
    "ylist.append(bumket)\n",
    "fig, ax = plt.subplots()\n",
    "ax.plot(x_lable,bumket,color = 'r' )\n",
    "ax.set(xlabel='avrage age(year)', ylabel='count', title='Laplace Distribution')\n",
    "ax.grid()\n",
    "plt.show()\n",
    "avg_age_DP = sum(res1)/len(res1)\n",
    "\n",
    "mistake['DP'].append(avg_age_DP)\n",
    "\n",
    "\n",
    "#差分攻击        \n",
    "print(\"执行以上操作后,差分隐私后平均年龄：\\n\",avg_age_DP)\n",
    "age_predict = mistake['DP'][0]*(len(records)+len(dellist)) - avg_age_DP*len(records)\n",
    "print(\"根据前后数值差分攻击得到删除掉的年龄为：\\n\",age_predict)\n",
    "del mistake['DP'][1]\n",
    "if len(dellist)>0:\n",
    "    del dellist[0]\n",
    "fig, ax = plt.subplots()\n",
    "line1, = ax.plot(x_lable,bumket,color = 'r' )\n",
    "line2, = ax.plot(xlist[0],ylist[0],color = 'g' )\n",
    "plt.legend((line1,line2),('now','before'))\n",
    "ax.set(xlabel='avrage age(year)', ylabel='count', title='Laplace Distribution')\n",
    "ax.grid()\n",
    "plt.show()"
   ]
  }
 ],
 "metadata": {
  "kernelspec": {
   "display_name": "Python 3",
   "language": "python",
   "name": "python3"
  },
  "language_info": {
   "codemirror_mode": {
    "name": "ipython",
    "version": 3
   },
   "file_extension": ".py",
   "mimetype": "text/x-python",
   "name": "python",
   "nbconvert_exporter": "python",
   "pygments_lexer": "ipython3",
   "version": "3.7.0"
  }
 },
 "nbformat": 4,
 "nbformat_minor": 2
}
